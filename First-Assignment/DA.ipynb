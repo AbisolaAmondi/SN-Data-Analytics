{
 "cells": [
  {
   "cell_type": "code",
   "execution_count": null,
   "metadata": {},
   "outputs": [],
   "source": [
    "Task 1 (Create a GitHub repository)\n",
    "1. I downloaded and installed Gitbash from Git for windows on Google.\n",
    "2. I signed into my Github account as i already have an existing account by logging on to github.com\n",
    "3. I configured my email address and my username to my github account on Gitbash using the scripts below;\n",
    "- git config --global user.name \"AbisolaAmondi\"\n",
    "- git config --global user.email \"bisolaamondi@gmail.com\"\n",
    "4. On my Github account, I created a repository (SN Data Analytics) by clicking on the drop down button on \"+\" beside my account icon\n",
    "5. I filled out my repository description, made it public and initializing it with a README file\n",
    "6. Cloned my repository with SSH key by following the steps below;\n",
    "- Search for generate ssh key github on google, open the first document and read through\n",
    "- Run the scripts below on gitbash as stated on the document\n",
    "* ssh-keygen -t rsa -b 4096 -C \"bisolaamondi@gmail.com\"\n",
    "* Press enter on your keyboard thrice\n",
    "* cd ~/.ssh\n",
    "* ls \n",
    "* An ssh key will be generated which should not be shared with anyone\n",
    "* eval $(ssh-agent -s)\n",
    "* sshadd ~/.ssh/id_rsa\n",
    "* clip < \"insert generated public key here\"\n",
    "7. On your github acount, go to your profile and click on settings\n",
    "8. select SSH and GPG Keys and click on New ssh key\n",
    "9. On the key field, paste by pressing ctrl+v \n",
    "10. On the title field, input your device name and click on add SSH key\n",
    "Problems Encountered\n",
    "- I got some errors on gitbash because one of the scripts I ran was case sensitive\n",
    "- I also got some errors because the scripts I copied from the document and ran on gitbash was quite different from the scripts ran in the video\n",
    "Solution\n",
    "- I ran the scripts used in the video\n",
    "Observation\n",
    "- I observed I had \"Code\" on my github account instead of \"Clone\"\n",
    "\n",
    "Task 2 (Create a folder - First Assignment inside the repository)\n",
    "1. Ran the scripts below on gitbash to create a folder\n",
    "- ls\n",
    "- cd SN-Data-Analytics\n",
    "- mkdir First-Assignment\n",
    "\n",
    "Task 3 (Push an empty notebook into the repository)\n",
    "1. Go to your repository by clicking your profile, your repositories and select your repository\n",
    "2. Click on Clone with SSH and copy the URL\n",
    "3. Run the script below on gitbash to clone your repository;\n",
    "- git clone git@github.com:AbisolaAmondi/SN-Data-Analytics.git\n",
    "4. go to Jupyter, create an empty notebook and save&checkpoint, this should save on your desktop\n",
    "5. Locate the folder in the repository you created on your local machine - C:\\Program Files\\Git\\SN-Data-Analytics\\First-Assignment\n",
    "6. Copy the empty notebook on your desktop and paste in the folder on your local machine\n",
    "7. Push the notebook into the repository by running the scripts below on gitbash;\n",
    "- git commit -m \"my first commit\"\n",
    "- git push origin main\n",
    "8. Check your github account to confirm if notebook is in your repository\n",
    "Problem encountered\n",
    "- I ran \"git push origin master\" to push the notebook in my repository and I got an error\n",
    "Solution\n",
    "- I read an article on the internet that you get an error when you use the script above if your default branch for your github account is main\n",
    "so I replaced master with main on the script, ran it and it worked."
   ]
  }
 ],
 "metadata": {
  "kernelspec": {
   "display_name": "Python 3",
   "language": "python",
   "name": "python3"
  },
  "language_info": {
   "codemirror_mode": {
    "name": "ipython",
    "version": 3
   },
   "file_extension": ".py",
   "mimetype": "text/x-python",
   "name": "python",
   "nbconvert_exporter": "python",
   "pygments_lexer": "ipython3",
   "version": "3.7.6"
  }
 },
 "nbformat": 4,
 "nbformat_minor": 4
}
